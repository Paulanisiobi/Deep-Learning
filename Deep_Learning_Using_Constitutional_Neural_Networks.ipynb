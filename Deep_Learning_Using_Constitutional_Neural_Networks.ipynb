{
  "nbformat": 4,
  "nbformat_minor": 0,
  "metadata": {
    "colab": {
      "name": "Deep-Learning-Using-Constitutional-Neural-Networks",
      "version": "0.3.2",
      "provenance": [],
      "collapsed_sections": [],
      "include_colab_link": true
    },
    "kernelspec": {
      "name": "python3",
      "display_name": "Python 3"
    },
    "accelerator": "TPU"
  },
  "cells": [
    {
      "cell_type": "markdown",
      "metadata": {
        "id": "view-in-github",
        "colab_type": "text"
      },
      "source": [
        "<a href=\"https://colab.research.google.com/github/Paulanisiobi/Deep-Learning/blob/master/Deep_Learning_Using_Constitutional_Neural_Networks.ipynb\" target=\"_parent\"><img src=\"https://colab.research.google.com/assets/colab-badge.svg\" alt=\"Open In Colab\"/></a>"
      ]
    },
    {
      "cell_type": "code",
      "metadata": {
        "id": "sGAp48SQFdkn",
        "colab_type": "code",
        "colab": {}
      },
      "source": [
        "Deep Laerning using Convolutional Neural Networks with TensorFlow Keras"
      ],
      "execution_count": 0,
      "outputs": []
    },
    {
      "cell_type": "markdown",
      "metadata": {
        "id": "-lywJHvyHjiP",
        "colab_type": "text"
      },
      "source": [
        ""
      ]
    },
    {
      "cell_type": "code",
      "metadata": {
        "id": "Y38aIcp4F3rI",
        "colab_type": "code",
        "colab": {}
      },
      "source": [
        ""
      ],
      "execution_count": 0,
      "outputs": []
    },
    {
      "cell_type": "markdown",
      "metadata": {
        "id": "rXhOCWD-SNPE",
        "colab_type": "text"
      },
      "source": [
        "**Deep Learning using Convolutional Neutral Networks on Fashion MNIST dataset with Tensor Flow Keras**\n",
        "\n"
      ]
    },
    {
      "cell_type": "code",
      "metadata": {
        "id": "VXKMYEgZSt3P",
        "colab_type": "code",
        "colab": {
          "base_uri": "https://localhost:8080/",
          "height": 163
        },
        "outputId": "95595584-e5ff-4bdd-dd62-8d374cf67aee"
      },
      "source": [
        "import tensorflow as tf\n",
        "import numpy as np\n",
        "\n",
        "import distutils\n",
        "\n",
        "(x_train, y_train), (x_test, y_test) = tf.keras.datasets.fashion_mnist.load_data()\n",
        "\n",
        "# add empty colour dimension\n",
        "x_train = np.expand_dims(x_train, -1)\n",
        "x_test = np.expand_dims(x_test, -1)"
      ],
      "execution_count": 5,
      "outputs": [
        {
          "output_type": "stream",
          "text": [
            "Downloading data from https://storage.googleapis.com/tensorflow/tf-keras-datasets/train-labels-idx1-ubyte.gz\n",
            "32768/29515 [=================================] - 0s 0us/step\n",
            "Downloading data from https://storage.googleapis.com/tensorflow/tf-keras-datasets/train-images-idx3-ubyte.gz\n",
            "26427392/26421880 [==============================] - 1s 0us/step\n",
            "Downloading data from https://storage.googleapis.com/tensorflow/tf-keras-datasets/t10k-labels-idx1-ubyte.gz\n",
            "8192/5148 [===============================================] - 0s 0us/step\n",
            "Downloading data from https://storage.googleapis.com/tensorflow/tf-keras-datasets/t10k-images-idx3-ubyte.gz\n",
            "4423680/4422102 [==============================] - 0s 0us/step\n"
          ],
          "name": "stdout"
        }
      ]
    },
    {
      "cell_type": "code",
      "metadata": {
        "id": "pM_OcErATAhk",
        "colab_type": "code",
        "colab": {}
      },
      "source": [
        "def create_model():\n",
        "  model = tf.keras.models.Sequential()\n",
        "  model.add(tf.keras.layers.BatchNormalization(input_shape=x_train.shape[1:]))\n",
        "  model.add(tf.keras.layers.Conv2D(64,(5, 5), padding='same', activation='elu'))\n",
        "  model.add(tf.keras.layers.MaxPooling2D(pool_size=(2, 2), strides=(2, 2)))\n",
        "  model.add(tf.keras.layers.Dropout(0.25))\n",
        "  \n",
        "  \n",
        "  model = tf.keras.models.Sequential()\n",
        "  model.add(tf.keras.layers.BatchNormalization(input_shape=x_train.shape[1:]))\n",
        "  model.add(tf.keras.layers.Conv2D(128,(5, 5), padding='same', activation='elu'))\n",
        "  model.add(tf.keras.layers.MaxPooling2D(pool_size=(2, 2), strides=(2, 2)))\n",
        "  model.add(tf.keras.layers.Dropout(0.25))\n",
        "  \n",
        "  \n",
        "  \n",
        "  model = tf.keras.models.Sequential()\n",
        "  model.add(tf.keras.layers.BatchNormalization(input_shape=x_train.shape[1:]))\n",
        "  model.add(tf.keras.layers.Conv2D(256,(5, 5), padding='same', activation='elu'))\n",
        "  model.add(tf.keras.layers.MaxPooling2D(pool_size=(2, 2), strides=(2, 2)))\n",
        "  model.add(tf.keras.layers.Dropout(0.25))\n",
        "  \n",
        "  \n",
        "  model.add(tf.keras.layers.Flatten())\n",
        "  model.add(tf.keras.layers.Dense(256))\n",
        "  model.add(tf.keras.layers.Activation('elu'))\n",
        "  model.add(tf.keras.layers.Dropout(0.5))\n",
        "  model.add(tf.keras.layers.Dense(10))\n",
        "  model.add(tf.keras.layers.Activation('softmax'))\n",
        "  return model\n",
        "  "
      ],
      "execution_count": 0,
      "outputs": []
    },
    {
      "cell_type": "code",
      "metadata": {
        "id": "JPtFsM89ZLOK",
        "colab_type": "code",
        "colab": {}
      },
      "source": [
        ""
      ],
      "execution_count": 0,
      "outputs": []
    },
    {
      "cell_type": "markdown",
      "metadata": {
        "id": "0-UGAfvAZLsu",
        "colab_type": "text"
      },
      "source": [
        "In our FIRST Convolution layer, we want to apply 64 5x5 filters to the upper layer, with a ReLU activation function.\n",
        "\n",
        "in our SECOND convolution layer, we want to apply 256 5x5 filters to the input layer, with ReLU activation function.\n",
        "\n",
        "We aslo specified Max pooling with a 2x2 filter and stride of 2.\n",
        "\n",
        "We want to add a dense layer (with 256 neurons and ReLU activation) to our CNN o perform classification on the features extracted by the convolution/pooling layers. Before we connect the layer, however, we will flatten pour feature into a vector that can be fed into"
      ]
    },
    {
      "cell_type": "code",
      "metadata": {
        "id": "0WKphbDXaxkI",
        "colab_type": "code",
        "colab": {
          "base_uri": "https://localhost:8080/",
          "height": 1000
        },
        "outputId": "ddf57c1a-8067-40a3-8000-99cf7c3cbf6c"
      },
      "source": [
        "import os\n",
        "\n",
        "# This address identifies the TPU we will use when configuring TensorFlow\n",
        "resolver = tf.contrib.cluster_resolver.TPUClusterResolver('grpc://' + os.environ['COLAB_TPU_ADDR'])\n",
        "tf.contrib.distribute.initialize_tpu_system(resolver)\n",
        "strategy = tf.contrib.distribute.TPUStrategy(resolver)\n",
        "\n",
        "with strategy. scope():\n",
        "  model = create_model()\n",
        "  model.compile(\n",
        "       optimizer=tf.keras.optimizers.Adam(learning_rate=1e-3, ),\n",
        "       loss='sparse_categorical_crossentropy',\n",
        "       metrics=['sparse_categorical_accuracy'])\n",
        "      \n",
        "model.fit(\n",
        "        x_train.astype(np.float32), y_train.astype(np.float32),\n",
        "         epochs=17,\n",
        "         steps_per_epoch=60,\n",
        "         validation_data=(x_test.astype(np.float32), y_test.astype(np.float32)),\n",
        "         validation_freq=17\n",
        ")\n",
        "      \n",
        "model.save_weights('./fashion_mnist.h5', overwrite=True) "
      ],
      "execution_count": 22,
      "outputs": [
        {
          "output_type": "stream",
          "text": [
            "WARNING:tensorflow:TPU system %s has already been initialized. Reinitializing the TPU can cause previously created variables on TPU to be lost.\n",
            "INFO:tensorflow:Initializing the TPU system.\n",
            "INFO:tensorflow:Finished initializing TPU system.\n",
            "INFO:tensorflow:Querying Tensorflow master (grpc://10.46.52.138:8470) for TPU system metadata.\n",
            "INFO:tensorflow:Found TPU system:\n",
            "INFO:tensorflow:*** Num TPU Cores: 8\n",
            "INFO:tensorflow:*** Num TPU Workers: 1\n",
            "INFO:tensorflow:*** Num TPU Cores Per Worker: 8\n",
            "INFO:tensorflow:*** Available Device: _DeviceAttributes(/job:worker/replica:0/task:0/device:CPU:0, CPU, -1, 6357888511723765028)\n",
            "INFO:tensorflow:*** Available Device: _DeviceAttributes(/job:worker/replica:0/task:0/device:TPU:0, TPU, 17179869184, 11819947521713820369)\n",
            "INFO:tensorflow:*** Available Device: _DeviceAttributes(/job:worker/replica:0/task:0/device:TPU:1, TPU, 17179869184, 12434701542559801029)\n",
            "INFO:tensorflow:*** Available Device: _DeviceAttributes(/job:worker/replica:0/task:0/device:TPU:2, TPU, 17179869184, 15770798816362473711)\n",
            "INFO:tensorflow:*** Available Device: _DeviceAttributes(/job:worker/replica:0/task:0/device:TPU:3, TPU, 17179869184, 14262137631415866034)\n",
            "INFO:tensorflow:*** Available Device: _DeviceAttributes(/job:worker/replica:0/task:0/device:TPU:4, TPU, 17179869184, 8860565226444280898)\n",
            "INFO:tensorflow:*** Available Device: _DeviceAttributes(/job:worker/replica:0/task:0/device:TPU:5, TPU, 17179869184, 16902541302733536334)\n",
            "INFO:tensorflow:*** Available Device: _DeviceAttributes(/job:worker/replica:0/task:0/device:TPU:6, TPU, 17179869184, 8854887882044121300)\n",
            "INFO:tensorflow:*** Available Device: _DeviceAttributes(/job:worker/replica:0/task:0/device:TPU:7, TPU, 17179869184, 11976835870690981543)\n",
            "INFO:tensorflow:*** Available Device: _DeviceAttributes(/job:worker/replica:0/task:0/device:TPU_SYSTEM:0, TPU_SYSTEM, 8589934592, 6926442530968083940)\n",
            "INFO:tensorflow:*** Available Device: _DeviceAttributes(/job:worker/replica:0/task:0/device:XLA_CPU:0, XLA_CPU, 17179869184, 15828353711161072133)\n",
            "Epoch 1/17\n",
            "WARNING:tensorflow:From /usr/local/lib/python3.6/dist-packages/tensorflow/python/keras/engine/training_distributed.py:411: Variable.load (from tensorflow.python.ops.variables) is deprecated and will be removed in a future version.\n",
            "Instructions for updating:\n",
            "Prefer Variable.assign which has equivalent behavior in 2.X.\n",
            "60/60 [==============================] - 3s 55ms/step - loss: 0.7711 - sparse_categorical_accuracy: 0.7652\n",
            "Epoch 2/17\n",
            "60/60 [==============================] - 2s 29ms/step - loss: 0.3830 - sparse_categorical_accuracy: 0.8639\n",
            "Epoch 3/17\n",
            "60/60 [==============================] - 2s 28ms/step - loss: 0.3306 - sparse_categorical_accuracy: 0.8827\n",
            "Epoch 4/17\n",
            "60/60 [==============================] - 2s 28ms/step - loss: 0.2967 - sparse_categorical_accuracy: 0.8936\n",
            "Epoch 5/17\n",
            "60/60 [==============================] - 2s 28ms/step - loss: 0.2729 - sparse_categorical_accuracy: 0.9033\n",
            "Epoch 6/17\n",
            "60/60 [==============================] - 2s 29ms/step - loss: 0.2546 - sparse_categorical_accuracy: 0.9089\n",
            "Epoch 7/17\n",
            "60/60 [==============================] - 2s 28ms/step - loss: 0.2408 - sparse_categorical_accuracy: 0.9134\n",
            "Epoch 8/17\n",
            "60/60 [==============================] - 2s 28ms/step - loss: 0.2269 - sparse_categorical_accuracy: 0.9179\n",
            "Epoch 9/17\n",
            "60/60 [==============================] - 2s 29ms/step - loss: 0.2127 - sparse_categorical_accuracy: 0.9229\n",
            "Epoch 10/17\n",
            "60/60 [==============================] - 2s 28ms/step - loss: 0.1993 - sparse_categorical_accuracy: 0.9278\n",
            "Epoch 11/17\n",
            "60/60 [==============================] - 2s 28ms/step - loss: 0.1896 - sparse_categorical_accuracy: 0.9317\n",
            "Epoch 12/17\n",
            "60/60 [==============================] - 2s 28ms/step - loss: 0.1842 - sparse_categorical_accuracy: 0.9317\n",
            "Epoch 13/17\n",
            "60/60 [==============================] - 2s 28ms/step - loss: 0.1758 - sparse_categorical_accuracy: 0.9362\n",
            "Epoch 14/17\n",
            "60/60 [==============================] - 2s 29ms/step - loss: 0.1647 - sparse_categorical_accuracy: 0.9396\n",
            "Epoch 15/17\n",
            "60/60 [==============================] - 2s 28ms/step - loss: 0.1587 - sparse_categorical_accuracy: 0.9408\n",
            "Epoch 16/17\n",
            "60/60 [==============================] - 2s 28ms/step - loss: 0.1531 - sparse_categorical_accuracy: 0.9433\n",
            "Epoch 17/17\n",
            "59/60 [============================>.] - ETA: 0s - loss: 0.1560 - sparse_categorical_accuracy: 0.9424INFO:tensorflow:Running validation at fit epoch: 16\n",
            "10/10 [==============================] - 3s 329ms/step\n",
            "10/10 [==============================] - 3s 329ms/step\n",
            "60/60 [==============================] - 8s 125ms/step - loss: 0.1557 - sparse_categorical_accuracy: 0.9425 - val_loss: 0.2566 - val_sparse_categorical_accuracy: 0.9184\n"
          ],
          "name": "stdout"
        }
      ]
    },
    {
      "cell_type": "markdown",
      "metadata": {
        "id": "Ftw1g-wgjMjf",
        "colab_type": "text"
      },
      "source": [
        "this approach achieved an accuracy of about 94% with more advanced approaches, the model can be improved.\n",
        "\n",
        "**Now that we are done training , we will see how well the model can predict fashion categories.**"
      ]
    },
    {
      "cell_type": "markdown",
      "metadata": {
        "id": "EuyOb9JUFgMp",
        "colab_type": "text"
      },
      "source": [
        ""
      ]
    },
    {
      "cell_type": "code",
      "metadata": {
        "id": "_dGJ96Ipt8mb",
        "colab_type": "code",
        "colab": {
          "base_uri": "https://localhost:8080/",
          "height": 507
        },
        "outputId": "80b467fd-77a9-425e-ee34-99aaf2b7855e"
      },
      "source": [
        "LABEL_NAMES = ['t_shirt', 'trouser', 'pullover', 'dress', 'coat', 'sandal', 'shirt', 'sneaker', 'bag', 'ankle_boots']\n",
        "\n",
        "\n",
        "cpu_model = create_model()\n",
        "cpu_model.load_weights('./fashion_mnist.h5')\n",
        "\n",
        "from matplotlib import pyplot\n",
        "%matplotlib inline\n",
        "\n",
        "def plot_predictions(images, predictions):\n",
        "  n = images.shape[0]\n",
        "  nc = int(np.ceil(n / 4))\n",
        "  f, axes = pyplot.subplots(nc, 4)\n",
        "  for i in range(nc * 4):\n",
        "    y = i // 4\n",
        "    x = i % 4\n",
        "    axes[x, y].axis('off')\n",
        "    \n",
        "    label = LABEL_NAMES[np.argmax(predictions[i])]\n",
        "    confidence = np.max(predictions[i])\n",
        "    if i > n:\n",
        "      continue\n",
        "    axes[x, y].imshow(images[i])\n",
        "    axes[x, y].text(0.5, 0.5, label + '\\n%.3f' % confidence, fontsize=14)\n",
        "\n",
        "  pyplot.gcf().set_size_inches(8, 8)  \n",
        "\n",
        "plot_predictions(np.squeeze(x_test[:16]), \n",
        "                 cpu_model.predict(x_test[:16]))"
      ],
      "execution_count": 48,
      "outputs": [
        {
          "output_type": "display_data",
          "data": {
            "image/png": "[encoded data removed]",
            "text/plain": [
              "<Figure size 576x576 with 16 Axes>"
            ]
          },
          "metadata": {
            "tags": []
          }
        }
      ]
    }
  ]
}